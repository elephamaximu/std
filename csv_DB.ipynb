{
 "cells": [
  {
   "cell_type": "code",
   "execution_count": 1,
   "metadata": {},
   "outputs": [],
   "source": [
    "import csv"
   ]
  },
  {
   "cell_type": "code",
   "execution_count": 8,
   "metadata": {},
   "outputs": [],
   "source": [
    "input_file = csv.DictReader(open(\"major.csv\", encoding='UTF8'))"
   ]
  },
  {
   "cell_type": "code",
   "execution_count": 9,
   "metadata": {},
   "outputs": [
    {
     "data": {
      "text/plain": [
       "<csv.DictReader at 0x22232585630>"
      ]
     },
     "execution_count": 9,
     "metadata": {},
     "output_type": "execute_result"
    }
   ],
   "source": [
    "input_file"
   ]
  },
  {
   "cell_type": "code",
   "execution_count": 10,
   "metadata": {},
   "outputs": [
    {
     "name": "stdout",
     "output_type": "stream",
     "text": [
      "OrderedDict([('\\ufeffmajor_id', '10'), ('major_title', '의료IT마케팅')])\n",
      "OrderedDict([('\\ufeffmajor_id', '20'), ('major_title', '소프트웨어학과')])\n",
      "OrderedDict([('\\ufeffmajor_id', '30'), ('major_title', '바이오식품')])\n",
      "OrderedDict([('\\ufeffmajor_id', '40'), ('major_title', '기계공학')])\n",
      "OrderedDict([('\\ufeffmajor_id', '50'), ('major_title', '의류학과')])\n",
      "OrderedDict([('\\ufeffmajor_id', '60'), ('major_title', '스페인어')])\n",
      "OrderedDict([('\\ufeffmajor_id', '70'), ('major_title', '언론정보학과')])\n",
      "OrderedDict([('\\ufeffmajor_id', '80'), ('major_title', '정보통신과')])\n",
      "OrderedDict([('\\ufeffmajor_id', '90'), ('major_title', '일본언어문화')])\n",
      "OrderedDict([('\\ufeffmajor_id', '100'), ('major_title', '도시계획')])\n",
      "OrderedDict([('\\ufeffmajor_id', '110'), ('major_title', '교육학과')])\n",
      "OrderedDict([('\\ufeffmajor_id', '120'), ('major_title', '경영학과')])\n",
      "OrderedDict([('\\ufeffmajor_id', '130'), ('major_title', '산업경영공학')])\n",
      "OrderedDict([('\\ufeffmajor_id', '140'), ('major_title', 'IT학부')])\n",
      "OrderedDict([('\\ufeffmajor_id', '150'), ('major_title', '무역')])\n",
      "OrderedDict([('\\ufeffmajor_id', '160'), ('major_title', '컴퓨터과학과')])\n",
      "OrderedDict([('\\ufeffmajor_id', '170'), ('major_title', '금융공학과')])\n",
      "OrderedDict([('\\ufeffmajor_id', '180'), ('major_title', '사회학')])\n",
      "OrderedDict([('\\ufeffmajor_id', '190'), ('major_title', '인도철학')])\n",
      "OrderedDict([('\\ufeffmajor_id', '200'), ('major_title', '전기공학')])\n",
      "OrderedDict([('\\ufeffmajor_id', '210'), ('major_title', '빅데이터과학')])\n",
      "OrderedDict([('\\ufeffmajor_id', '220'), ('major_title', '국제통상')])\n"
     ]
    }
   ],
   "source": [
    "for row in input_file:\n",
    "    print (row)"
   ]
  },
  {
   "cell_type": "code",
   "execution_count": 27,
   "metadata": {},
   "outputs": [],
   "source": [
    "from stdmj.models import Major\n",
    "with open('major.csv', encoding='UTF8') as csvfile:\n",
    "    reader = csv.DictReader(csvfile)\n",
    "    for row in reader:\n",
    "        p= Major(major_id=row['\\ufeffmajor_id'], major_title=row['major_title'])\n",
    "        p.save()"
   ]
  },
  {
   "cell_type": "code",
   "execution_count": 33,
   "metadata": {},
   "outputs": [],
   "source": [
    "input_file = csv.DictReader(open(\"student.csv\", encoding='UTF8'))\n",
    "   "
   ]
  },
  {
   "cell_type": "code",
   "execution_count": 34,
   "metadata": {},
   "outputs": [
    {
     "name": "stdout",
     "output_type": "stream",
     "text": [
      "OrderedDict([('\\ufeffstudentID', '1'), ('name', '김휘중'), ('major_id', '10'), ('phone', ''), ('address', ''), ('hobby', ''), ('skill', 'Java/C/Python')])\n",
      "OrderedDict([('\\ufeffstudentID', '2'), ('name', '문상수'), ('major_id', '20'), ('phone', ''), ('address', ''), ('hobby', ''), ('skill', 'Java/C/Python/웹 개발')])\n",
      "OrderedDict([('\\ufeffstudentID', '3'), ('name', '박성철'), ('major_id', '30'), ('phone', ''), ('address', ''), ('hobby', ''), ('skill', 'Python/정보보안')])\n",
      "OrderedDict([('\\ufeffstudentID', '4'), ('name', '박세환'), ('major_id', '40'), ('phone', ''), ('address', ''), ('hobby', ''), ('skill', '')])\n",
      "OrderedDict([('\\ufeffstudentID', '5'), ('name', '박소영'), ('major_id', '50'), ('phone', ''), ('address', ''), ('hobby', ''), ('skill', '')])\n",
      "OrderedDict([('\\ufeffstudentID', '6'), ('name', '박정은'), ('major_id', '60'), ('phone', ''), ('address', ''), ('hobby', ''), ('skill', '')])\n",
      "OrderedDict([('\\ufeffstudentID', '7'), ('name', '방서경'), ('major_id', '70'), ('phone', ''), ('address', ''), ('hobby', ''), ('skill', '데이터 분석')])\n",
      "OrderedDict([('\\ufeffstudentID', '8'), ('name', '배지수'), ('major_id', '80'), ('phone', ''), ('address', ''), ('hobby', ''), ('skill', '네트워크/암호장비 유지보수')])\n",
      "OrderedDict([('\\ufeffstudentID', '9'), ('name', '백하연'), ('major_id', '90'), ('phone', ''), ('address', ''), ('hobby', ''), ('skill', '')])\n",
      "OrderedDict([('\\ufeffstudentID', '10'), ('name', '신상림'), ('major_id', '160'), ('phone', ''), ('address', ''), ('hobby', ''), ('skill', 'Java/C')])\n",
      "OrderedDict([('\\ufeffstudentID', '11'), ('name', '오승진'), ('major_id', '100'), ('phone', ''), ('address', ''), ('hobby', ''), ('skill', '')])\n",
      "OrderedDict([('\\ufeffstudentID', '12'), ('name', '위정욱'), ('major_id', '110'), ('phone', ''), ('address', ''), ('hobby', ''), ('skill', 'Java/R/Python')])\n",
      "OrderedDict([('\\ufeffstudentID', '13'), ('name', '윤창민'), ('major_id', '160'), ('phone', ''), ('address', ''), ('hobby', ''), ('skill', 'C/C++/Java')])\n",
      "OrderedDict([('\\ufeffstudentID', '14'), ('name', '이광호'), ('major_id', '120'), ('phone', ''), ('address', ''), ('hobby', ''), ('skill', '')])\n",
      "OrderedDict([('\\ufeffstudentID', '15'), ('name', '이남기'), ('major_id', '130'), ('phone', ''), ('address', ''), ('hobby', ''), ('skill', '')])\n",
      "OrderedDict([('\\ufeffstudentID', '16'), ('name', '이아라'), ('major_id', '140'), ('phone', ''), ('address', ''), ('hobby', ''), ('skill', 'Java/C++')])\n",
      "OrderedDict([('\\ufeffstudentID', '17'), ('name', '이진주'), ('major_id', '80'), ('phone', ''), ('address', ''), ('hobby', ''), ('skill', '')])\n",
      "OrderedDict([('\\ufeffstudentID', '18'), ('name', '임왕기'), ('major_id', '160'), ('phone', ''), ('address', ''), ('hobby', ''), ('skill', 'Android')])\n",
      "OrderedDict([('\\ufeffstudentID', '19'), ('name', '정윤도'), ('major_id', '170'), ('phone', ''), ('address', ''), ('hobby', ''), ('skill', 'Java/C/Python')])\n",
      "OrderedDict([('\\ufeffstudentID', '20'), ('name', '정인아'), ('major_id', '180'), ('phone', ''), ('address', ''), ('hobby', ''), ('skill', '')])\n",
      "OrderedDict([('\\ufeffstudentID', '21'), ('name', '정인창'), ('major_id', '190'), ('phone', ''), ('address', ''), ('hobby', ''), ('skill', 'HTML/CSS/JavaScript')])\n",
      "OrderedDict([('\\ufeffstudentID', '22'), ('name', '허정표'), ('major_id', '120'), ('phone', ''), ('address', ''), ('hobby', ''), ('skill', '')])\n",
      "OrderedDict([('\\ufeffstudentID', '23'), ('name', '현진우'), ('major_id', '200'), ('phone', ''), ('address', ''), ('hobby', ''), ('skill', 'Python/딥러닝')])\n"
     ]
    }
   ],
   "source": [
    "for row in input_file:\n",
    "    print (row)"
   ]
  },
  {
   "cell_type": "code",
   "execution_count": 37,
   "metadata": {},
   "outputs": [],
   "source": [
    "from stdmj.models import Student\n",
    "with open('student.csv', encoding='UTF8') as csvfile:\n",
    "    reader = csv.DictReader(csvfile)\n",
    "    for row in reader:\n",
    "        p= Student(studentID=row['\\ufeffstudentID'], name=row['name'], major_id=row['major_id'], \n",
    "            phone=row['phone'], address=row['address'], hobby=row['hobby'], skill = row['skill'])\n",
    "        p.save()"
   ]
  },
  {
   "cell_type": "code",
   "execution_count": null,
   "metadata": {},
   "outputs": [],
   "source": []
  }
 ],
 "metadata": {
  "kernelspec": {
   "display_name": "Django Shell-Plus",
   "language": "python",
   "name": "django_extensions"
  },
  "language_info": {
   "codemirror_mode": {
    "name": "ipython",
    "version": 3
   },
   "file_extension": ".py",
   "mimetype": "text/x-python",
   "name": "python",
   "nbconvert_exporter": "python",
   "pygments_lexer": "ipython3",
   "version": "3.7.2"
  }
 },
 "nbformat": 4,
 "nbformat_minor": 2
}
